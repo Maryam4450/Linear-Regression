{
 "cells": [
  {
   "cell_type": "markdown",
   "id": "19109e28",
   "metadata": {},
   "source": [
    "### MARYAM MAJID\n",
    "### Roll no. BSDSF23M033\n",
    "\n",
    "### Import Libraries"
   ]
  },
  {
   "cell_type": "code",
   "execution_count": 103,
   "id": "d0ef49ce",
   "metadata": {},
   "outputs": [],
   "source": [
    "import numpy as np\n",
    "import pandas as pd\n",
    "import time "
   ]
  },
  {
   "cell_type": "markdown",
   "id": "d7d70660",
   "metadata": {},
   "source": [
    "### Load Dataset"
   ]
  },
  {
   "cell_type": "code",
   "execution_count": 104,
   "id": "759216dd",
   "metadata": {},
   "outputs": [],
   "source": [
    "###Load data here###\n",
    "data= pd.read_csv(\"data1.csv\")"
   ]
  },
  {
   "cell_type": "markdown",
   "id": "76272a3d",
   "metadata": {},
   "source": [
    "### Visualize Data"
   ]
  },
  {
   "cell_type": "code",
   "execution_count": 105,
   "id": "230eaba3",
   "metadata": {},
   "outputs": [
    {
     "data": {
      "image/png": "[encoded data removed]",
      "text/plain": [
       "<Figure size 640x480 with 1 Axes>"
      ]
     },
     "metadata": {},
     "output_type": "display_data"
    }
   ],
   "source": [
    "##Run this cell to visualize the data###\n",
    "import matplotlib.pyplot as plt\n",
    "\n",
    "plt.scatter(x=data.Distance.values, y=data.DepDelay.values)\n",
    "plt.show()"
   ]
  },
  {
   "cell_type": "markdown",
   "id": "709ca5c5",
   "metadata": {},
   "source": [
    "### Check for Missing Values"
   ]
  },
  {
   "cell_type": "code",
   "execution_count": 106,
   "id": "be32dbb6",
   "metadata": {},
   "outputs": [
    {
     "data": {
      "text/plain": [
       "DepDelay      0\n",
       "Month         0\n",
       "DayofMonth    0\n",
       "DayOfWeek     0\n",
       "CRSDepTime    0\n",
       "CRSArrTime    0\n",
       "Distance      0\n",
       "dtype: int64"
      ]
     },
     "execution_count": 106,
     "metadata": {},
     "output_type": "execute_result"
    }
   ],
   "source": [
    "###Check for Missing Data###\n",
    "data.isnull().sum()"
   ]
  },
  {
   "cell_type": "code",
   "execution_count": 107,
   "id": "26ff9f14",
   "metadata": {},
   "outputs": [
    {
     "data": {
      "text/plain": [
       "DepDelay      float64\n",
       "Month         float64\n",
       "DayofMonth    float64\n",
       "DayOfWeek     float64\n",
       "CRSDepTime    float64\n",
       "CRSArrTime    float64\n",
       "Distance      float64\n",
       "dtype: object"
      ]
     },
     "execution_count": 107,
     "metadata": {},
     "output_type": "execute_result"
    }
   ],
   "source": [
    "data.dtypes"
   ]
  },
  {
   "cell_type": "markdown",
   "id": "a49964dd",
   "metadata": {},
   "source": [
    "### Perform Minmax Scaling"
   ]
  },
  {
   "cell_type": "code",
   "execution_count": 108,
   "id": "c9f04b78",
   "metadata": {},
   "outputs": [],
   "source": [
    "def minmax_scaling (data, column):\n",
    "    min = data[column].min()\n",
    "    max = data[column].max()\n",
    "    return (data[column] - min) / (max - min)"
   ]
  },
  {
   "cell_type": "code",
   "execution_count": 109,
   "id": "c84e4184",
   "metadata": {},
   "outputs": [
    {
     "data": {
      "text/html": [
       "<div>\n",
       "<style scoped>\n",
       "    .dataframe tbody tr th:only-of-type {\n",
       "        vertical-align: middle;\n",
       "    }\n",
       "\n",
       "    .dataframe tbody tr th {\n",
       "        vertical-align: top;\n",
       "    }\n",
       "\n",
       "    .dataframe thead th {\n",
       "        text-align: right;\n",
       "    }\n",
       "</style>\n",
       "<table border=\"1\" class=\"dataframe\">\n",
       "  <thead>\n",
       "    <tr style=\"text-align: right;\">\n",
       "      <th></th>\n",
       "      <th>DepDelay</th>\n",
       "      <th>Month</th>\n",
       "      <th>DayofMonth</th>\n",
       "      <th>DayOfWeek</th>\n",
       "      <th>CRSDepTime</th>\n",
       "      <th>CRSArrTime</th>\n",
       "      <th>Distance</th>\n",
       "    </tr>\n",
       "  </thead>\n",
       "  <tbody>\n",
       "    <tr>\n",
       "      <th>0</th>\n",
       "      <td>0.363390</td>\n",
       "      <td>0.818182</td>\n",
       "      <td>0.333333</td>\n",
       "      <td>1.000000</td>\n",
       "      <td>0.541667</td>\n",
       "      <td>0.639583</td>\n",
       "      <td>0.512944</td>\n",
       "    </tr>\n",
       "    <tr>\n",
       "      <th>1</th>\n",
       "      <td>0.360072</td>\n",
       "      <td>0.818182</td>\n",
       "      <td>0.300000</td>\n",
       "      <td>0.833333</td>\n",
       "      <td>0.847917</td>\n",
       "      <td>0.879167</td>\n",
       "      <td>0.020068</td>\n",
       "    </tr>\n",
       "    <tr>\n",
       "      <th>2</th>\n",
       "      <td>0.362786</td>\n",
       "      <td>0.818182</td>\n",
       "      <td>0.833333</td>\n",
       "      <td>0.000000</td>\n",
       "      <td>0.500000</td>\n",
       "      <td>0.602500</td>\n",
       "      <td>0.496689</td>\n",
       "    </tr>\n",
       "    <tr>\n",
       "      <th>3</th>\n",
       "      <td>0.361279</td>\n",
       "      <td>0.818182</td>\n",
       "      <td>0.266667</td>\n",
       "      <td>0.666667</td>\n",
       "      <td>0.477083</td>\n",
       "      <td>0.630000</td>\n",
       "      <td>0.518964</td>\n",
       "    </tr>\n",
       "    <tr>\n",
       "      <th>4</th>\n",
       "      <td>0.360977</td>\n",
       "      <td>0.818182</td>\n",
       "      <td>0.500000</td>\n",
       "      <td>0.666667</td>\n",
       "      <td>0.387500</td>\n",
       "      <td>0.478750</td>\n",
       "      <td>0.481437</td>\n",
       "    </tr>\n",
       "    <tr>\n",
       "      <th>...</th>\n",
       "      <td>...</td>\n",
       "      <td>...</td>\n",
       "      <td>...</td>\n",
       "      <td>...</td>\n",
       "      <td>...</td>\n",
       "      <td>...</td>\n",
       "      <td>...</td>\n",
       "    </tr>\n",
       "    <tr>\n",
       "      <th>999995</th>\n",
       "      <td>0.360676</td>\n",
       "      <td>0.545455</td>\n",
       "      <td>0.966667</td>\n",
       "      <td>0.166667</td>\n",
       "      <td>0.347917</td>\n",
       "      <td>0.391667</td>\n",
       "      <td>0.063616</td>\n",
       "    </tr>\n",
       "    <tr>\n",
       "      <th>999996</th>\n",
       "      <td>0.361279</td>\n",
       "      <td>0.545455</td>\n",
       "      <td>0.933333</td>\n",
       "      <td>0.000000</td>\n",
       "      <td>0.510417</td>\n",
       "      <td>0.680417</td>\n",
       "      <td>0.169175</td>\n",
       "    </tr>\n",
       "    <tr>\n",
       "      <th>999997</th>\n",
       "      <td>0.360374</td>\n",
       "      <td>0.545455</td>\n",
       "      <td>0.966667</td>\n",
       "      <td>0.166667</td>\n",
       "      <td>0.631250</td>\n",
       "      <td>0.722917</td>\n",
       "      <td>0.070239</td>\n",
       "    </tr>\n",
       "    <tr>\n",
       "      <th>999998</th>\n",
       "      <td>0.363390</td>\n",
       "      <td>0.545455</td>\n",
       "      <td>0.800000</td>\n",
       "      <td>0.500000</td>\n",
       "      <td>0.556250</td>\n",
       "      <td>0.685833</td>\n",
       "      <td>0.180614</td>\n",
       "    </tr>\n",
       "    <tr>\n",
       "      <th>999999</th>\n",
       "      <td>0.358866</td>\n",
       "      <td>0.545455</td>\n",
       "      <td>1.000000</td>\n",
       "      <td>0.333333</td>\n",
       "      <td>0.220833</td>\n",
       "      <td>0.268750</td>\n",
       "      <td>0.145093</td>\n",
       "    </tr>\n",
       "  </tbody>\n",
       "</table>\n",
       "<p>1000000 rows × 7 columns</p>\n",
       "</div>"
      ],
      "text/plain": [
       "        DepDelay     Month  DayofMonth  DayOfWeek  CRSDepTime  CRSArrTime  \\\n",
       "0       0.363390  0.818182    0.333333   1.000000    0.541667    0.639583   \n",
       "1       0.360072  0.818182    0.300000   0.833333    0.847917    0.879167   \n",
       "2       0.362786  0.818182    0.833333   0.000000    0.500000    0.602500   \n",
       "3       0.361279  0.818182    0.266667   0.666667    0.477083    0.630000   \n",
       "4       0.360977  0.818182    0.500000   0.666667    0.387500    0.478750   \n",
       "...          ...       ...         ...        ...         ...         ...   \n",
       "999995  0.360676  0.545455    0.966667   0.166667    0.347917    0.391667   \n",
       "999996  0.361279  0.545455    0.933333   0.000000    0.510417    0.680417   \n",
       "999997  0.360374  0.545455    0.966667   0.166667    0.631250    0.722917   \n",
       "999998  0.363390  0.545455    0.800000   0.500000    0.556250    0.685833   \n",
       "999999  0.358866  0.545455    1.000000   0.333333    0.220833    0.268750   \n",
       "\n",
       "        Distance  \n",
       "0       0.512944  \n",
       "1       0.020068  \n",
       "2       0.496689  \n",
       "3       0.518964  \n",
       "4       0.481437  \n",
       "...          ...  \n",
       "999995  0.063616  \n",
       "999996  0.169175  \n",
       "999997  0.070239  \n",
       "999998  0.180614  \n",
       "999999  0.145093  \n",
       "\n",
       "[1000000 rows x 7 columns]"
      ]
     },
     "execution_count": 109,
     "metadata": {},
     "output_type": "execute_result"
    }
   ],
   "source": [
    "###Apply above function on appropriate columns###\n",
    "data['DepDelay'] = minmax_scaling(data, 'DepDelay')\n",
    "data['Month'] = minmax_scaling(data, 'Month')\n",
    "data['DayofMonth'] = minmax_scaling(data, 'DayofMonth')\n",
    "data['DayOfWeek'] = minmax_scaling(data, 'DayOfWeek')\n",
    "data['CRSDepTime'] = minmax_scaling(data, 'CRSDepTime')\n",
    "data['CRSArrTime'] = minmax_scaling(data, 'CRSArrTime')\n",
    "data['Distance'] = minmax_scaling(data, 'Distance')\n",
    "data"
   ]
  },
  {
   "cell_type": "code",
   "execution_count": null,
   "id": "1a8be7ac",
   "metadata": {},
   "outputs": [],
   "source": []
  },
  {
   "cell_type": "markdown",
   "id": "011b9faf",
   "metadata": {},
   "source": [
    "### Divide Data into Training and Testing"
   ]
  },
  {
   "cell_type": "code",
   "execution_count": 110,
   "id": "fbcec90e",
   "metadata": {},
   "outputs": [],
   "source": [
    "def train_test_split (data, ratio):\n",
    "    indices = np.random.permutation(data.shape[0])\n",
    "    test_set_size = int(data.shape[0] * ratio)\n",
    "    test_indices = indices[:test_set_size]\n",
    "    train_indices = indices[test_set_size:]\n",
    "    return data.iloc[train_indices], data.iloc[test_indices]"
   ]
  },
  {
   "cell_type": "code",
   "execution_count": 111,
   "id": "94cb147f",
   "metadata": {},
   "outputs": [],
   "source": [
    "###Understand the above function and divide data into X_train, X_test, y_train, y_test###\n",
    "train_data, test_data = train_test_split(data, 0.3) # 70% train , 30% test"
   ]
  },
  {
   "cell_type": "markdown",
   "id": "1e9bca6c",
   "metadata": {},
   "source": [
    "### Calculate Weights Using the Normal Equation Method (Matrix Algebra)"
   ]
  },
  {
   "cell_type": "code",
   "execution_count": 112,
   "id": "88aaffba",
   "metadata": {},
   "outputs": [],
   "source": [
    "###Use the np.linalg.inv function to compute the weight vector/array theta (Hint: @ operator in numpy)###\n",
    "###You will be required to extract numpy arrays from the DataFrame (Hint: column_name.values)###\n",
    "###Also, you need to reshape the arrays and merge them to create a multi-dimensional\n",
    "###array in numpy, similar to a Pandas DataFrame (Hint: np.hstack)\n",
    "###A bias vector/column is also required as a column in our stacked array (Hint: np.ones)###\n",
    "X_train = train_data[['Month','DayofMonth','DayOfWeek','CRSDepTime','CRSArrTime','Distance']].values\n",
    "y_train = train_data[['DepDelay']].values.reshape(-1, 1)\n",
    "X_test = test_data[['Month','DayofMonth','DayOfWeek','CRSDepTime','CRSArrTime','Distance']].values\n",
    "y_test = test_data[['DepDelay']].values.reshape(-1, 1)\n",
    "\n",
    "X_train = np.hstack((np.ones((X_train.shape[0], 1)), X_train))\n",
    "X_test = np.hstack((np.ones((X_test.shape[0], 1)), X_test))\n",
    "\n",
    "theta = np.linalg.inv(X_train.T @ X_train) @ X_train.T @ y_train\n",
    "\n"
   ]
  },
  {
   "cell_type": "markdown",
   "id": "4ced6ddc",
   "metadata": {},
   "source": [
    "### Calculate Predictions on Test Set"
   ]
  },
  {
   "cell_type": "code",
   "execution_count": 113,
   "id": "a2e9d248",
   "metadata": {},
   "outputs": [
    {
     "name": "stdout",
     "output_type": "stream",
     "text": [
      "[[0.36251642]\n",
      " [0.36347436]\n",
      " [0.36481104]\n",
      " ...\n",
      " [0.36417003]\n",
      " [0.36256205]\n",
      " [0.3639671 ]]\n"
     ]
    }
   ],
   "source": [
    "###Calculate predictions on X_test using theta###\n",
    "y_pred = X_test @ theta\n",
    "print(y_pred)\n"
   ]
  },
  {
   "cell_type": "markdown",
   "id": "7e9b0621",
   "metadata": {},
   "source": [
    "### Calculate MSE (Evaluate Model)"
   ]
  },
  {
   "cell_type": "code",
   "execution_count": 114,
   "id": "29ee4b66",
   "metadata": {},
   "outputs": [
    {
     "name": "stdout",
     "output_type": "stream",
     "text": [
      "MSE (Normal Equation): 7.680393484010323e-05\n"
     ]
    }
   ],
   "source": [
    "###Evaluate the regression model based on Mean Squared Error###\n",
    "mse = np.mean((y_pred - y_test) ** 2)\n",
    "print(\"MSE (Normal Equation):\", mse)"
   ]
  },
  {
   "cell_type": "markdown",
   "id": "c47f8829",
   "metadata": {},
   "source": [
    "### Inverse Transform Model's Output"
   ]
  },
  {
   "cell_type": "code",
   "execution_count": 115,
   "id": "67936175",
   "metadata": {},
   "outputs": [
    {
     "name": "stdout",
     "output_type": "stream",
     "text": [
      "Inverse Transformed Predictions: [[0.36251642]\n",
      " [0.36347436]\n",
      " [0.36481104]\n",
      " ...\n",
      " [0.36417003]\n",
      " [0.36256205]\n",
      " [0.3639671 ]]\n"
     ]
    }
   ],
   "source": [
    "###Transform model's output back to original range/scale###\n",
    "\n",
    "dis_min = data['DepDelay'].min()\n",
    "dis_max = data['DepDelay'].max()  \n",
    "\n",
    "y_pred_original = y_pred * (dis_max - dis_min) + dis_min\n",
    "print(\"Inverse Transformed Predictions:\", y_pred_original)"
   ]
  },
  {
   "cell_type": "markdown",
   "id": "8c401478",
   "metadata": {},
   "source": [
    "### Calcualte Weights Using Gradient Descent"
   ]
  },
  {
   "cell_type": "code",
   "execution_count": 116,
   "id": "7e850309",
   "metadata": {},
   "outputs": [
    {
     "name": "stdout",
     "output_type": "stream",
     "text": [
      "[[0.104493  ]\n",
      " [0.104493  ]\n",
      " [0.04866978]\n",
      " [0.04814739]\n",
      " [0.04726888]\n",
      " [0.0551347 ]\n",
      " [0.06191178]]\n"
     ]
    }
   ],
   "source": [
    "###Implement Batch GD to compute the weight vector theta###\n",
    "\n",
    "start_time = time.time()\n",
    "theta0, theta1, theta2, theta3,theta4, theta5,theta6 = 0, 0, 0, 0, 0, 0,0\n",
    "alpha = 0.01\n",
    "epochs = 100\n",
    "\n",
    "\n",
    "for i in range(epochs):\n",
    "    ###Implement GD###\n",
    "    x1 = X_train[:, 0]  # Only Month\n",
    "    x2 = X_train[:, 1]  # only  DayofMonth\n",
    "    x3 = X_train[:, 2]  # for  DayOfWeek\n",
    "    x4 = X_train[:, 3]  # for  CRSDepTime\n",
    "    x5 = X_train[:, 4]  # for  CRSArrTime\n",
    "    x6 = X_train[:, 5]  # for  Distance\n",
    "    y_pred = theta0 + theta1 * x1 + theta2 * x2 + theta3 * x3 + theta4 * x4 + theta5 * x5 + theta6 * x6\n",
    "    error = y_pred.reshape(-1, 1) - y_train\n",
    "\n",
    "    grad0 = (1 / len(X_train)) * np.sum(error)\n",
    "    grad1 = (1 / len(X_train)) * np.sum(error.flatten() * x1) #error is 2d and x1 is 1d\n",
    "    grad2 = (1 / len(X_train)) * np.sum(error.flatten() * x2)\n",
    "    grad3 = (1 / len(X_train)) * np.sum(error.flatten() * x3)\n",
    "    grad4 = (1 / len(X_train)) * np.sum(error.flatten() * x4)\n",
    "    grad5 = (1 / len(X_train)) * np.sum(error.flatten() * x5)\n",
    "    grad6 = (1 / len(X_train)) * np.sum(error.flatten() * x6)\n",
    "\n",
    "    theta0 -= alpha * grad0\n",
    "    theta1 -= alpha * grad1\n",
    "    theta2 -= alpha * grad2\n",
    "    theta3 -= alpha * grad3\n",
    "    theta4 -= alpha * grad4\n",
    "    theta5 -= alpha * grad5\n",
    "    theta6 -= alpha * grad6\n",
    "\n",
    "theta_gd = np.vstack((theta0, theta1,theta2,theta3,theta4,theta5,theta6))\n",
    "end_time = time.time()\n",
    "time_bgd = end_time - start_time\n",
    "print(theta_gd)"
   ]
  },
  {
   "cell_type": "markdown",
   "id": "9334d75b",
   "metadata": {},
   "source": [
    "### Calculate Predictions on Test Test"
   ]
  },
  {
   "cell_type": "code",
   "execution_count": 117,
   "id": "cd4e537c",
   "metadata": {},
   "outputs": [],
   "source": [
    "###Calculate y_pred on weights from GD###\n",
    "y_pred_gd = X_test @ theta_gd\n"
   ]
  },
  {
   "cell_type": "markdown",
   "id": "3d87d01e",
   "metadata": {},
   "source": [
    "### Calculate MSE (Evaluate Model)"
   ]
  },
  {
   "cell_type": "code",
   "execution_count": 118,
   "id": "eecdf4c2",
   "metadata": {},
   "outputs": [
    {
     "name": "stdout",
     "output_type": "stream",
     "text": [
      "MSE (Gradient Descent): 0.010073654983348905\n"
     ]
    }
   ],
   "source": [
    "###Calculate MSE on y_pred from GD###\n",
    "mse_gd = np.mean((y_pred_gd - y_test) ** 2)\n",
    "print(\"MSE (Gradient Descent):\", mse_gd)"
   ]
  },
  {
   "cell_type": "markdown",
   "id": "63759657",
   "metadata": {},
   "source": [
    "### Compare the two Approaches based on MSE ###"
   ]
  },
  {
   "cell_type": "code",
   "execution_count": 119,
   "id": "89b81d41",
   "metadata": {},
   "outputs": [
    {
     "name": "stdout",
     "output_type": "stream",
     "text": [
      "Normal Equation performed better (lower MSE).\n"
     ]
    }
   ],
   "source": [
    "###Which approach is more accurate?###\n",
    "###Which approach is fast###?\n",
    "if mse < mse_gd:\n",
    "    print(\"Normal Equation performed better (lower MSE).\")\n",
    "elif mse > mse_gd:\n",
    "    print(\"Gradient Descent performed better (lower MSE).\")\n",
    "else:\n",
    "    print(\" Both approaches performed equally well.\")"
   ]
  },
  {
   "cell_type": "markdown",
   "id": "047da239",
   "metadata": {},
   "source": [
    "### Stochastic Gradient Descent"
   ]
  },
  {
   "cell_type": "code",
   "execution_count": null,
   "id": "1dd97382",
   "metadata": {},
   "outputs": [
    {
     "name": "stdout",
     "output_type": "stream",
     "text": [
      "Epoch 0: MSE = 0.00007\n",
      "Epoch 10: MSE = 0.00007\n",
      "Epoch 20: MSE = 0.00007\n",
      "Epoch 30: MSE = 0.00007\n",
      "Epoch 40: MSE = 0.00007\n",
      "Epoch 50: MSE = 0.00007\n",
      "Epoch 60: MSE = 0.00007\n",
      "Epoch 70: MSE = 0.00007\n",
      "Epoch 80: MSE = 0.00007\n",
      "Epoch 90: MSE = 0.00007\n",
      "Stochastic GD Final Weights:\n",
      " [[ 0.35984994]\n",
      " [-0.00113017]\n",
      " [ 0.0004501 ]\n",
      " [ 0.00052582]\n",
      " [ 0.00275896]\n",
      " [ 0.0019154 ]\n",
      " [ 0.00143579]]\n",
      "MSE (Stochastic Gradient Descent): 7.754467443608046e-05\n"
     ]
    }
   ],
   "source": [
    "start_time = time.time()\n",
    "theta = np.zeros(7)\n",
    "alpha = 0.01\n",
    "epochs = 100\n",
    "\n",
    "# Run SGD\n",
    "for epoch in range(epochs):\n",
    "    for i in range(len(X_train)):\n",
    "        x = X_train[i]          \n",
    "        y = y_train[i][0]         \n",
    "\n",
    "        # Prediction and error\n",
    "        y_pred = np.dot(theta, x)\n",
    "        error = y_pred - y\n",
    "\n",
    "        # Update weights\n",
    "        theta -= alpha * error * x\n",
    "\n",
    "    # Optional: print MSE every 10 epochs\n",
    "    if epoch % 10 == 0:\n",
    "        y_pred_all = X_train @ theta.reshape(-1, 1)\n",
    "        mse = np.mean((y_pred_all - y_train) ** 2)\n",
    "        print(f\"Epoch {epoch}: MSE = {mse:.5f}\")\n",
    "\n",
    "# Final theta values\n",
    "theta_sgd = theta.reshape(-1, 1)\n",
    "print(\"Stochastic GD Final Weights:\\n\", theta_sgd)\n",
    "end_time = time.time()\n",
    "\n",
    "# Evaluate on test set\n",
    "y_pred_sgd = X_test @ theta_sgd\n",
    "mse_sgd = np.mean((y_pred_sgd - y_test) ** 2)\n",
    "time_sgd = end_time - start_time\n",
    "print(\"MSE (Stochastic Gradient Descent):\", mse_sgd)"
   ]
  },
  {
   "cell_type": "code",
   "execution_count": 123,
   "id": "3f9cd970",
   "metadata": {},
   "outputs": [
    {
     "name": "stdout",
     "output_type": "stream",
     "text": [
      "Batch GD         - MSE: 0.01007, Time: 10.49332s\n",
      "Stochastic GD    - MSE: 0.00008, Time: 530.32870s\n",
      "Batch GD Weights:\n",
      " [[0.104493  ]\n",
      " [0.104493  ]\n",
      " [0.04866978]\n",
      " [0.04814739]\n",
      " [0.04726888]\n",
      " [0.0551347 ]\n",
      " [0.06191178]]\n",
      "Stochastic GD Weights:\n",
      " [[ 0.35984994]\n",
      " [-0.00113017]\n",
      " [ 0.0004501 ]\n",
      " [ 0.00052582]\n",
      " [ 0.00275896]\n",
      " [ 0.0019154 ]\n",
      " [ 0.00143579]]\n"
     ]
    }
   ],
   "source": [
    "#Comparing the performancein terms of time taken, compare the weights and MSE of both models.\n",
    "print(f\"Batch GD         - MSE: {mse_gd:.5f}, Time: {time_bgd:.5f}s\")\n",
    "print(f\"Stochastic GD    - MSE: {mse_sgd:.5f}, Time: {time_sgd:.5f}s\")\n",
    "print(\"Batch GD Weights:\\n\", theta_gd)\n",
    "print(\"Stochastic GD Weights:\\n\", theta_sgd)"
   ]
  }
 ],
 "metadata": {
  "kernelspec": {
   "display_name": "Python 3",
   "language": "python",
   "name": "python3"
  },
  "language_info": {
   "codemirror_mode": {
    "name": "ipython",
    "version": 3
   },
   "file_extension": ".py",
   "mimetype": "text/x-python",
   "name": "python",
   "nbconvert_exporter": "python",
   "pygments_lexer": "ipython3",
   "version": "3.13.1"
  }
 },
 "nbformat": 4,
 "nbformat_minor": 5
}
